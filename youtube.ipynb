{
 "cells": [
  {
   "cell_type": "code",
   "execution_count": 1,
   "metadata": {},
   "outputs": [],
   "source": [
    "import pyspark\n",
    "import pandas as pd\n",
    "from pyspark.sql.types import StructType,StructField, StringType, IntegerType, DateType \n",
    "\n",
    "spark = pyspark.sql.SparkSession.builder.getOrCreate() \n",
    "\n",
    "from pyspark.sql.functions import udf\n",
    "from pyspark.sql.types import FloatType\n",
    "squared_udf = udf(lambda x: squared(x), FloatType())"
   ]
  },
  {
   "cell_type": "code",
   "execution_count": 2,
   "metadata": {},
   "outputs": [],
   "source": [
    "schema = StructType([\n",
    "    StructField('title', StringType(), True),\n",
    "    StructField('category_name', StringType(), True),\n",
    "    StructField('category_id', StringType(), True),\n",
    "    StructField('followers', IntegerType(), True),\n",
    "    StructField('videos', IntegerType(), True),\n",
    "    StructField('country', StringType(), True),\n",
    "    StructField('picture_url', StringType(), True),\n",
    "    StructField('profile_url', StringType(), True),\n",
    "    ]\n",
    ")"
   ]
  },
  {
   "cell_type": "code",
   "execution_count": 3,
   "metadata": {},
   "outputs": [],
   "source": [
    "df = spark.read.csv('youtube.csv', header='true', schema=schema)"
   ]
  },
  {
   "cell_type": "code",
   "execution_count": 4,
   "metadata": {
    "scrolled": true
   },
   "outputs": [
    {
     "name": "stdout",
     "output_type": "stream",
     "text": [
      "root\n",
      " |-- title: string (nullable = true)\n",
      " |-- category_name: string (nullable = true)\n",
      " |-- category_id: string (nullable = true)\n",
      " |-- followers: integer (nullable = true)\n",
      " |-- videos: integer (nullable = true)\n",
      " |-- country: string (nullable = true)\n",
      " |-- picture_url: string (nullable = true)\n",
      " |-- profile_url: string (nullable = true)\n",
      "\n"
     ]
    }
   ],
   "source": [
    "df.printSchema()"
   ]
  },
  {
   "cell_type": "code",
   "execution_count": 5,
   "metadata": {
    "scrolled": true
   },
   "outputs": [
    {
     "name": "stdout",
     "output_type": "stream",
     "text": [
      "-RECORD 0-----------------------------\n",
      " title         | PewDiePie            \n",
      " category_name | Entertainment        \n",
      " category_id   | 24                   \n",
      " followers     | 69896406             \n",
      " videos        | 3649                 \n",
      " country       | United States        \n",
      " picture_url   | https://yt3.ggpht... \n",
      " profile_url   | http://www.youtub... \n",
      "-RECORD 1-----------------------------\n",
      " title         | T-Series             \n",
      " category_name | Music                \n",
      " category_id   | 10                   \n",
      " followers     | 69471946             \n",
      " videos        | 12820                \n",
      " country       | India                \n",
      " picture_url   | https://yt3.ggpht... \n",
      " profile_url   | http://www.youtub... \n",
      "-RECORD 2-----------------------------\n",
      " title         | Justin Bieber        \n",
      " category_name | Entertainment        \n",
      " category_id   | 24                   \n",
      " followers     | 41858494             \n",
      " videos        | 132                  \n",
      " country       | null                 \n",
      " picture_url   | https://yt3.ggpht... \n",
      " profile_url   | http://www.youtub... \n",
      "-RECORD 3-----------------------------\n",
      " title         | 5-Minute Crafts      \n",
      " category_name | Howto & Style        \n",
      " category_id   | 26                   \n",
      " followers     | 40474509             \n",
      " videos        | 2350                 \n",
      " country       | United States        \n",
      " picture_url   | https://yt3.ggpht... \n",
      " profile_url   | http://www.youtub... \n",
      "-RECORD 4-----------------------------\n",
      " title         | WWE                  \n",
      " category_name | Sports               \n",
      " category_id   | 17                   \n",
      " followers     | 36301947             \n",
      " videos        | 37928                \n",
      " country       | null                 \n",
      " picture_url   | https://yt3.ggpht... \n",
      " profile_url   | http://www.youtub... \n",
      "only showing top 5 rows\n",
      "\n"
     ]
    }
   ],
   "source": [
    "df.show(5, vertical = True)"
   ]
  },
  {
   "cell_type": "code",
   "execution_count": 6,
   "metadata": {},
   "outputs": [],
   "source": [
    "df.createOrReplaceTempView(\"youtube\")"
   ]
  },
  {
   "cell_type": "code",
   "execution_count": 7,
   "metadata": {},
   "outputs": [
    {
     "name": "stdout",
     "output_type": "stream",
     "text": [
      "+---------------------+------------------+\n",
      "|category_name        |avg_followers     |\n",
      "+---------------------+------------------+\n",
      "|Comedy               |431641.4434728295 |\n",
      "|Entertainment        |360062.7634681559 |\n",
      "|Music                |311641.8089213382 |\n",
      "|Education            |265221.8324882289 |\n",
      "|Howto & Style        |243301.51093937084|\n",
      "|Film and Animation   |234370.68145423068|\n",
      "|News & Politics      |221840.84918918918|\n",
      "|Gaming               |213334.0716175237 |\n",
      "|Science & Technology |197664.78243398393|\n",
      "|Sports               |188560.80100882723|\n",
      "|People & Blogs       |171038.41552575864|\n",
      "|Pets & Animals       |169964.69204545455|\n",
      "|Autos & Vehicles     |122564.4680356451 |\n",
      "|Travel & Events      |102899.29069767441|\n",
      "|Nonprofits & Activism|101005.39520958083|\n",
      "+---------------------+------------------+\n",
      "\n"
     ]
    }
   ],
   "source": [
    "#AVG followers by Category\n",
    "\n",
    "spark.sql('''\n",
    "SELECT category_name, AVG(followers) as avg_followers \n",
    "FROM youtube\n",
    "GROUP BY category_name\n",
    "ORDER BY avg_followers DESC;\n",
    "''').show(truncate=False)"
   ]
  },
  {
   "cell_type": "code",
   "execution_count": 9,
   "metadata": {},
   "outputs": [
    {
     "name": "stdout",
     "output_type": "stream",
     "text": [
      "+---------------------+-------------+\n",
      "|category_name        |sum_followers|\n",
      "+---------------------+-------------+\n",
      "|Entertainment        |6382832608   |\n",
      "|Music                |6231901253   |\n",
      "|Gaming               |3306464776   |\n",
      "|People & Blogs       |2423614348   |\n",
      "|Howto & Style        |2235210981   |\n",
      "|Education            |1464554959   |\n",
      "|Comedy               |1382115902   |\n",
      "|Film and Animation   |1083026919   |\n",
      "|Sports               |747643576    |\n",
      "|Science & Technology |688664102    |\n",
      "|News & Politics      |410405571    |\n",
      "|Autos & Vehicles     |316338892    |\n",
      "|Pets & Animals       |149568929    |\n",
      "|Travel & Events      |132740085    |\n",
      "|Nonprofits & Activism|67471604     |\n",
      "+---------------------+-------------+\n",
      "\n"
     ]
    }
   ],
   "source": [
    "# SUM Followers by Category\n",
    "\n",
    "spark.sql('''\n",
    "SELECT category_name, SUM(followers) as sum_followers \n",
    "FROM youtube\n",
    "GROUP BY category_name\n",
    "ORDER BY sum_followers DESC;\n",
    "''').show(truncate=False)"
   ]
  },
  {
   "cell_type": "code",
   "execution_count": null,
   "metadata": {},
   "outputs": [],
   "source": []
  }
 ],
 "metadata": {
  "kernelspec": {
   "display_name": "Python 3",
   "language": "python",
   "name": "python3"
  },
  "language_info": {
   "codemirror_mode": {
    "name": "ipython",
    "version": 3
   },
   "file_extension": ".py",
   "mimetype": "text/x-python",
   "name": "python",
   "nbconvert_exporter": "python",
   "pygments_lexer": "ipython3",
   "version": "3.8.5"
  }
 },
 "nbformat": 4,
 "nbformat_minor": 4
}
